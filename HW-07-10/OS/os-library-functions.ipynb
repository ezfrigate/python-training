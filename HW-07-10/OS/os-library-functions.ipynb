{
 "cells": [
  {
   "cell_type": "code",
   "execution_count": 17,
   "metadata": {},
   "outputs": [],
   "source": [
    "# 1. Copy a file\n",
    "# 2. Rename a file\n",
    "# 3. Create a directory\n",
    "# 4. Move a file\n",
    "# 5. Get current working directory\n",
    "# 6. Check if path is directory or file\n",
    "# 7. Write a string to a file\n",
    "# 8. Read a file\n",
    "# 9. Delete a dir\n",
    "\n",
    "import shutil\n",
    "import os"
   ]
  },
  {
   "cell_type": "code",
   "execution_count": 18,
   "metadata": {},
   "outputs": [
    {
     "data": {
      "text/plain": [
       "'C:\\\\Code Stuff\\\\python-training\\\\HW-07-10\\\\OS\\\\destination.txt'"
      ]
     },
     "execution_count": 18,
     "metadata": {},
     "output_type": "execute_result"
    }
   ],
   "source": [
    "# 1. Copy a file from source to destination\n",
    "\n",
    "source_file = 'C:\\Code Stuff\\python-training\\HW-07-10\\OS\\source.txt'\n",
    "destination_file = 'C:\\Code Stuff\\python-training\\HW-07-10\\OS\\destination.txt'\n",
    "shutil.copy(source_file, destination_file)"
   ]
  },
  {
   "cell_type": "code",
   "execution_count": 19,
   "metadata": {},
   "outputs": [],
   "source": [
    "# 2. Rename a file\n",
    "current_name = 'C:\\Code Stuff\\python-training\\HW-07-10\\OS\\destination.txt'\n",
    "new_name = 'C:\\Code Stuff\\python-training\\HW-07-10\\OS\\destination-new.txt'\n",
    "os.rename(current_name, new_name)"
   ]
  },
  {
   "cell_type": "code",
   "execution_count": 20,
   "metadata": {},
   "outputs": [],
   "source": [
    "# 3. Create a directory\n",
    "new_directory = 'C:\\Code Stuff\\python-training\\HW-07-10\\OS\\moving-to-this-folder'\n",
    "os.mkdir(new_directory)"
   ]
  },
  {
   "cell_type": "code",
   "execution_count": 21,
   "metadata": {},
   "outputs": [],
   "source": [
    "# 4. Move a file\n",
    "source_path = 'C:\\Code Stuff\\python-training\\HW-07-10\\OS\\destination-new.txt'\n",
    "destination_path = 'C:\\Code Stuff\\python-training\\HW-07-10\\OS\\moving-to-this-folder\\destination-new.txt'\n",
    "os.rename(source_path, destination_path)"
   ]
  },
  {
   "cell_type": "code",
   "execution_count": 22,
   "metadata": {},
   "outputs": [
    {
     "data": {
      "text/plain": [
       "'c:\\\\Code Stuff\\\\python-training\\\\HW-07-10\\\\OS'"
      ]
     },
     "execution_count": 22,
     "metadata": {},
     "output_type": "execute_result"
    }
   ],
   "source": [
    "# 5. Get current working directory\n",
    "os.getcwd()"
   ]
  },
  {
   "cell_type": "code",
   "execution_count": 23,
   "metadata": {},
   "outputs": [
    {
     "name": "stdout",
     "output_type": "stream",
     "text": [
      "3. It is a directory\n",
      "4. It is a file\n"
     ]
    }
   ],
   "source": [
    "# Check if a path is a directory\n",
    "if os.path.isdir('C:\\Code Stuff\\python-training\\HW-07-10\\OS\\moving-to-this-folder\\destination-new.txt'):\n",
    "    print('1. It is a directory')\n",
    "\n",
    "# Check if a path is a file\n",
    "if os.path.isfile('C:\\Code Stuff\\python-training\\HW-07-10\\OS\\moving-to-this-folder'):\n",
    "    print('2. It is a file')\n",
    "\n",
    "if os.path.isdir('C:\\Code Stuff\\python-training\\HW-07-10\\OS\\moving-to-this-folder'):\n",
    "    print('3. It is a directory')\n",
    "\n",
    "# Check if a path is a file\n",
    "if os.path.isfile('C:\\Code Stuff\\python-training\\HW-07-10\\OS\\moving-to-this-folder\\destination-new.txt'):\n",
    "    print('4. It is a file')\n",
    "\n"
   ]
  },
  {
   "cell_type": "code",
   "execution_count": 24,
   "metadata": {},
   "outputs": [
    {
     "name": "stdout",
     "output_type": "stream",
     "text": [
      "Text written to 'C:\\Code Stuff\\python-training\\HW-07-10\\OS\\moving-to-this-folder\\output.txt'\n"
     ]
    }
   ],
   "source": [
    "# 7. Write a string to a file\n",
    "# Define the string to write to the file\n",
    "text_to_write = \"This is the content of the text file.\"\n",
    "\n",
    "# Specify the file name and open it in 'w' (write) mode\n",
    "file_name = \"C:\\Code Stuff\\python-training\\HW-07-10\\OS\\moving-to-this-folder\\output.txt\"\n",
    "with open(file_name, 'w') as file:\n",
    "    # Write the string to the file\n",
    "    file.write(text_to_write)\n",
    "\n",
    "print(f\"Text written to '{file_name}'\")"
   ]
  },
  {
   "cell_type": "code",
   "execution_count": 25,
   "metadata": {},
   "outputs": [
    {
     "name": "stdout",
     "output_type": "stream",
     "text": [
      "This is the content of the text file.\n"
     ]
    }
   ],
   "source": [
    "# 8. Read a file\n",
    "# Specify the file name you want to read\n",
    "file_name = \"C:\\Code Stuff\\python-training\\HW-07-10\\OS\\moving-to-this-folder\\output.txt\"\n",
    "\n",
    "# Open the file in 'r' (read) mode\n",
    "with open(file_name, 'r') as file:\n",
    "    # Read the entire content of the file into a string\n",
    "    file_contents = file.read()\n",
    "\n",
    "# Print the read content\n",
    "print(file_contents)"
   ]
  },
  {
   "cell_type": "code",
   "execution_count": 26,
   "metadata": {},
   "outputs": [],
   "source": [
    "# 9. Delete a dir   \n",
    "\n",
    "# Specify the directory you want to delete\n",
    "directory_to_delete = \"C:\\Code Stuff\\python-training\\HW-07-10\\OS\\moving-to-this-folder\"\n",
    "\n",
    "# Delete the directory and its contents\n",
    "shutil.rmtree(directory_to_delete)"
   ]
  }
 ],
 "metadata": {
  "kernelspec": {
   "display_name": "Python 3",
   "language": "python",
   "name": "python3"
  },
  "language_info": {
   "codemirror_mode": {
    "name": "ipython",
    "version": 3
   },
   "file_extension": ".py",
   "mimetype": "text/x-python",
   "name": "python",
   "nbconvert_exporter": "python",
   "pygments_lexer": "ipython3",
   "version": "3.11.6"
  }
 },
 "nbformat": 4,
 "nbformat_minor": 2
}
