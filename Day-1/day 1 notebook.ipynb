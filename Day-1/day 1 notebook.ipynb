{
 "cells": [
  {
   "cell_type": "code",
   "execution_count": null,
   "id": "dd718854",
   "metadata": {},
   "outputs": [
    {
     "ename": "",
     "evalue": "",
     "output_type": "error",
     "traceback": [
      "\u001b[1;31mRunning cells with 'c:\\Users\\SESA509164\\AppData\\Local\\Programs\\Python\\Python311\\python.exe' requires the ipykernel package.\n",
      "\u001b[1;31mRun the following command to install 'ipykernel' into the Python environment. \n",
      "\u001b[1;31mCommand: 'c:/Users/SESA509164/AppData/Local/Programs/Python/Python311/python.exe -m pip install ipykernel -U --user --force-reinstall'"
     ]
    }
   ],
   "source": [
    "# is a single line comment\n",
    "\"\"\"\n",
    "this is a multiple\n",
    "comments\n",
    "we can give\n",
    "\"\"\"\n",
    "'''\n",
    "again\n",
    "multi line\n",
    "comments\n",
    "'''\n",
    "__author__ = 'Abhaya Agrawal'\n",
    "\n",
    "print(\"hello\")"
   ]
  },
  {
   "cell_type": "code",
   "execution_count": 2,
   "id": "b4d35cde",
   "metadata": {},
   "outputs": [
    {
     "data": {
      "text/plain": [
       "'n'"
      ]
     },
     "execution_count": 2,
     "metadata": {},
     "output_type": "execute_result"
    }
   ],
   "source": [
    "name = 'John'\n",
    "name[3] # idnex starts from 0 "
   ]
  },
  {
   "cell_type": "code",
   "execution_count": 3,
   "id": "e39e0e8c",
   "metadata": {},
   "outputs": [
    {
     "data": {
      "text/plain": [
       "'n'"
      ]
     },
     "execution_count": 3,
     "metadata": {},
     "output_type": "execute_result"
    }
   ],
   "source": [
    "name[-1] # get the last char"
   ]
  },
  {
   "cell_type": "code",
   "execution_count": 4,
   "id": "cc43ef7c",
   "metadata": {},
   "outputs": [
    {
     "ename": "TypeError",
     "evalue": "'str' object does not support item assignment",
     "output_type": "error",
     "traceback": [
      "\u001b[0;31m---------------------------------------------------------------------------\u001b[0m",
      "\u001b[0;31mTypeError\u001b[0m                                 Traceback (most recent call last)",
      "Cell \u001b[0;32mIn[4], line 1\u001b[0m\n\u001b[0;32m----> 1\u001b[0m name[\u001b[38;5;241m0\u001b[39m] \u001b[38;5;241m=\u001b[39m \u001b[38;5;124m'\u001b[39m\u001b[38;5;124mK\u001b[39m\u001b[38;5;124m'\u001b[39m\n",
      "\u001b[0;31mTypeError\u001b[0m: 'str' object does not support item assignment"
     ]
    }
   ],
   "source": [
    "name[0] = 'K' # strings are immutable, once defined we cannot change the contents of a string"
   ]
  },
  {
   "cell_type": "code",
   "execution_count": 5,
   "id": "b3c09277",
   "metadata": {},
   "outputs": [],
   "source": [
    "name = 'Ken' # we can replace the whole string all together, in that case\n",
    "# new memory address is given to it"
   ]
  },
  {
   "cell_type": "code",
   "execution_count": 6,
   "id": "42eaa887",
   "metadata": {},
   "outputs": [
    {
     "data": {
      "text/plain": [
       "'JOHN'"
      ]
     },
     "execution_count": 6,
     "metadata": {},
     "output_type": "execute_result"
    }
   ],
   "source": [
    "name = 'john'\n",
    "name.upper() # it returns the upper case string on the screen, original string remain same"
   ]
  },
  {
   "cell_type": "code",
   "execution_count": 7,
   "id": "35c6fc97",
   "metadata": {},
   "outputs": [
    {
     "data": {
      "text/plain": [
       "'john'"
      ]
     },
     "execution_count": 7,
     "metadata": {},
     "output_type": "execute_result"
    }
   ],
   "source": [
    "name"
   ]
  },
  {
   "cell_type": "code",
   "execution_count": 8,
   "id": "d028e486",
   "metadata": {},
   "outputs": [
    {
     "data": {
      "text/plain": [
       "'ken'"
      ]
     },
     "execution_count": 8,
     "metadata": {},
     "output_type": "execute_result"
    }
   ],
   "source": [
    "name ='KEN'\n",
    "name.lower()"
   ]
  },
  {
   "cell_type": "code",
   "execution_count": 9,
   "id": "4832572e",
   "metadata": {},
   "outputs": [
    {
     "data": {
      "text/plain": [
       "'John Mathew'"
      ]
     },
     "execution_count": 9,
     "metadata": {},
     "output_type": "execute_result"
    }
   ],
   "source": [
    "name = 'john mathew'\n",
    "name.title() # convert first char of every word in a string to upper case"
   ]
  },
  {
   "cell_type": "code",
   "execution_count": 10,
   "id": "6109a760",
   "metadata": {},
   "outputs": [
    {
     "data": {
      "text/plain": [
       "'John mathew'"
      ]
     },
     "execution_count": 10,
     "metadata": {},
     "output_type": "execute_result"
    }
   ],
   "source": [
    "name.capitalize() # conver only the first char of a string to upper case"
   ]
  },
  {
   "cell_type": "code",
   "execution_count": 13,
   "id": "ace15645",
   "metadata": {},
   "outputs": [
    {
     "ename": "IndentationError",
     "evalue": "expected an indented block after 'if' statement on line 6 (127805290.py, line 7)",
     "output_type": "error",
     "traceback": [
      "\u001b[0;36m  Cell \u001b[0;32mIn[13], line 7\u001b[0;36m\u001b[0m\n\u001b[0;31m    print(\"a is less than c\")\u001b[0m\n\u001b[0m    ^\u001b[0m\n\u001b[0;31mIndentationError\u001b[0m\u001b[0;31m:\u001b[0m expected an indented block after 'if' statement on line 6\n"
     ]
    }
   ],
   "source": [
    "a=10\n",
    "b=20\n",
    "c=30\n",
    "if a<b:\n",
    "    print(\"a is less than b\")\n",
    "    if a<c:\n",
    "        print(\"a is less than c\")\n",
    "    else:\n",
    "        print(\"a is not less than b\")\n",
    "else:\n",
    "    print(\"a is not less than b\")"
   ]
  },
  {
   "cell_type": "code",
   "execution_count": 15,
   "id": "f669dd71",
   "metadata": {},
   "outputs": [
    {
     "name": "stdout",
     "output_type": "stream",
     "text": [
      "please enter name amit\n",
      "name is not palindrome\n"
     ]
    }
   ],
   "source": [
    "name = input(\"please enter name \") # by default takes strings as input\n",
    "if name == name[::-1]: # name[::-1] reverse a string\n",
    "    print(\"name is palindrome\")\n",
    "else:\n",
    "    print(\"name is not palindrome\")"
   ]
  },
  {
   "cell_type": "code",
   "execution_count": null,
   "id": "0a4ef289",
   "metadata": {},
   "outputs": [],
   "source": [
    "'''\n",
    "1. take input radius of a circle and find its area and perimeter\n",
    "2. take input from user first and last name and concatenate to full name with space \n",
    "   between first and last name\n",
    "   - count the number of chars in full name inclusing space \n",
    "   - count upper case letters in full name \n",
    "   - count lower case letters in full name\n",
    "   - count digits if any in full name\n",
    "   - count special chars if any in full name\n",
    "   - count spaces in full name\n",
    "   - count number of vowels (in any case) in full name\n",
    "'''\n"
   ]
  },
  {
   "cell_type": "code",
   "execution_count": 18,
   "id": "e74a9cff",
   "metadata": {},
   "outputs": [
    {
     "name": "stdout",
     "output_type": "stream",
     "text": [
      "Please enter the radius of a circle : 2.3\n",
      "area of a circle is  16.619025137490002\n",
      "perimeter of a circle is  14.451326206513047\n"
     ]
    }
   ],
   "source": [
    "from math import pi\n",
    "radius = float(input(\"Please enter the radius of a circle : \"))\n",
    "area = pi*radius**2\n",
    "perimeter = 2*pi*radius\n",
    "print(\"area of a circle is \", area)\n",
    "print(\"perimeter of a circle is \", perimeter )"
   ]
  },
  {
   "cell_type": "code",
   "execution_count": 17,
   "id": "0cb081c6",
   "metadata": {},
   "outputs": [
    {
     "data": {
      "text/plain": [
       "['__doc__',\n",
       " '__file__',\n",
       " '__loader__',\n",
       " '__name__',\n",
       " '__package__',\n",
       " '__spec__',\n",
       " 'acos',\n",
       " 'acosh',\n",
       " 'asin',\n",
       " 'asinh',\n",
       " 'atan',\n",
       " 'atan2',\n",
       " 'atanh',\n",
       " 'ceil',\n",
       " 'comb',\n",
       " 'copysign',\n",
       " 'cos',\n",
       " 'cosh',\n",
       " 'degrees',\n",
       " 'dist',\n",
       " 'e',\n",
       " 'erf',\n",
       " 'erfc',\n",
       " 'exp',\n",
       " 'expm1',\n",
       " 'fabs',\n",
       " 'factorial',\n",
       " 'floor',\n",
       " 'fmod',\n",
       " 'frexp',\n",
       " 'fsum',\n",
       " 'gamma',\n",
       " 'gcd',\n",
       " 'hypot',\n",
       " 'inf',\n",
       " 'isclose',\n",
       " 'isfinite',\n",
       " 'isinf',\n",
       " 'isnan',\n",
       " 'isqrt',\n",
       " 'lcm',\n",
       " 'ldexp',\n",
       " 'lgamma',\n",
       " 'log',\n",
       " 'log10',\n",
       " 'log1p',\n",
       " 'log2',\n",
       " 'modf',\n",
       " 'nan',\n",
       " 'nextafter',\n",
       " 'perm',\n",
       " 'pi',\n",
       " 'pow',\n",
       " 'prod',\n",
       " 'radians',\n",
       " 'remainder',\n",
       " 'sin',\n",
       " 'sinh',\n",
       " 'sqrt',\n",
       " 'tan',\n",
       " 'tanh',\n",
       " 'tau',\n",
       " 'trunc',\n",
       " 'ulp']"
      ]
     },
     "execution_count": 17,
     "metadata": {},
     "output_type": "execute_result"
    }
   ],
   "source": [
    "dir(math)"
   ]
  },
  {
   "cell_type": "code",
   "execution_count": null,
   "id": "48709381",
   "metadata": {},
   "outputs": [],
   "source": [
    "import string\n",
    "fname = input(\"Please ente the first name : \")\n",
    "lname = input(\"Please ente the last name : \")\n",
    "full_name = fname + ' ' + lname\n",
    "upper_count, lower_count, space_count, special_count, digit_count, vowel_count = 0,0,0,0,0,0\n",
    "for x in full_name:\n",
    "    if x.isupper():\n",
    "        upper_count+=1\n",
    "    elif x.islower():\n",
    "        lower_count+=1\n",
    "    elif x.isspace():\n",
    "        space_count+=1\n",
    "    elif x.isdigit():\n",
    "        digit_count+=1\n",
    "        \n",
    "    if x in string.punctuation:\n",
    "        special_count+=1\n",
    "#     else:\n",
    "#         special_count+=1\n",
    "        \n",
    "    if x.upper() in \"AEIOU\":\n",
    "        vowel_count+=1\n",
    "        \n",
    "print(\"number of chars in full name is \", len(full_name))\n",
    "print(\"upper case char count is \", upper_count)\n",
    "print(\"lower case char count is \", lower_count)\n",
    "print(\"special char count is \", special_count)\n",
    "print(\"spaces count is \", space_count)\n",
    "print(\"digits count is \", digit_count)\n",
    "print(\"vowel count is \", vowel_count)"
   ]
  },
  {
   "cell_type": "code",
   "execution_count": 19,
   "id": "62cf37a2",
   "metadata": {},
   "outputs": [
    {
     "data": {
      "text/plain": [
       "'!\"#$%&\\'()*+,-./:;<=>?@[\\\\]^_`{|}~'"
      ]
     },
     "execution_count": 19,
     "metadata": {},
     "output_type": "execute_result"
    }
   ],
   "source": [
    "import string\n",
    "string.punctuation"
   ]
  },
  {
   "cell_type": "code",
   "execution_count": null,
   "id": "6f68688e",
   "metadata": {},
   "outputs": [],
   "source": [
    "lists => []\n",
    "in clause checks if the element is a part of list\n",
    "append, extend, insert, + will add elements to a list\n",
    "remove, pop and del will delete elements"
   ]
  },
  {
   "cell_type": "code",
   "execution_count": 20,
   "id": "a2578b28",
   "metadata": {},
   "outputs": [
    {
     "data": {
      "text/plain": [
       "[10, 20, 30, 'India', 'USA', 'China']"
      ]
     },
     "execution_count": 20,
     "metadata": {},
     "output_type": "execute_result"
    }
   ],
   "source": [
    "list1=[10,20,30,'India', 'USA','China']\n",
    "list1"
   ]
  },
  {
   "cell_type": "code",
   "execution_count": 21,
   "id": "663e49c9",
   "metadata": {},
   "outputs": [
    {
     "data": {
      "text/plain": [
       "list"
      ]
     },
     "execution_count": 21,
     "metadata": {},
     "output_type": "execute_result"
    }
   ],
   "source": [
    "type(list1)"
   ]
  },
  {
   "cell_type": "code",
   "execution_count": 22,
   "id": "f21f2816",
   "metadata": {},
   "outputs": [
    {
     "data": {
      "text/plain": [
       "True"
      ]
     },
     "execution_count": 22,
     "metadata": {},
     "output_type": "execute_result"
    }
   ],
   "source": [
    "30 in list1"
   ]
  },
  {
   "cell_type": "code",
   "execution_count": 23,
   "id": "ca93151d",
   "metadata": {},
   "outputs": [
    {
     "data": {
      "text/plain": [
       "False"
      ]
     },
     "execution_count": 23,
     "metadata": {},
     "output_type": "execute_result"
    }
   ],
   "source": [
    "100 in list1"
   ]
  },
  {
   "cell_type": "code",
   "execution_count": 24,
   "id": "b8ab141d",
   "metadata": {},
   "outputs": [
    {
     "data": {
      "text/plain": [
       "True"
      ]
     },
     "execution_count": 24,
     "metadata": {},
     "output_type": "execute_result"
    }
   ],
   "source": [
    "100 not in list1"
   ]
  },
  {
   "cell_type": "code",
   "execution_count": 25,
   "id": "4cdee0de",
   "metadata": {},
   "outputs": [
    {
     "data": {
      "text/plain": [
       "[10, 20, 30, 'India', 'USA', 'China', 99]"
      ]
     },
     "execution_count": 25,
     "metadata": {},
     "output_type": "execute_result"
    }
   ],
   "source": [
    "list1.append(99)\n",
    "list1"
   ]
  },
  {
   "cell_type": "code",
   "execution_count": 26,
   "id": "1d5b5abb",
   "metadata": {},
   "outputs": [
    {
     "data": {
      "text/plain": [
       "[10, 20, 30, 'India', 'USA', 'China', 99, 100, 200, 89]"
      ]
     },
     "execution_count": 26,
     "metadata": {},
     "output_type": "execute_result"
    }
   ],
   "source": [
    "list1.extend([100,200,89])\n",
    "list1"
   ]
  },
  {
   "cell_type": "code",
   "execution_count": 27,
   "id": "04869800",
   "metadata": {},
   "outputs": [
    {
     "data": {
      "text/plain": [
       "[10, 20, 30, 'India', 'USA', 'China', 99, 100, 200, 89, 8, 7]"
      ]
     },
     "execution_count": 27,
     "metadata": {},
     "output_type": "execute_result"
    }
   ],
   "source": [
    "list1 = list1+[8,7]\n",
    "list1"
   ]
  },
  {
   "cell_type": "code",
   "execution_count": 28,
   "id": "90cf7029",
   "metadata": {},
   "outputs": [
    {
     "data": {
      "text/plain": [
       "[10,\n",
       " 20,\n",
       " 30,\n",
       " 'India',\n",
       " 'USA',\n",
       " 'China',\n",
       " 99,\n",
       " 100,\n",
       " 200,\n",
       " 89,\n",
       " 8,\n",
       " 7,\n",
       " 10,\n",
       " 20,\n",
       " 30,\n",
       " 'India',\n",
       " 'USA',\n",
       " 'China',\n",
       " 99,\n",
       " 100,\n",
       " 200,\n",
       " 89,\n",
       " 8,\n",
       " 7]"
      ]
     },
     "execution_count": 28,
     "metadata": {},
     "output_type": "execute_result"
    }
   ],
   "source": [
    "list1*2  # concatenate list with a same list"
   ]
  },
  {
   "cell_type": "code",
   "execution_count": 29,
   "id": "bf17a186",
   "metadata": {},
   "outputs": [
    {
     "data": {
      "text/plain": [
       "[10, 20, 30, 'India', 'USA', 'China', 99, 100, 200, 89, 8, 7]"
      ]
     },
     "execution_count": 29,
     "metadata": {},
     "output_type": "execute_result"
    }
   ],
   "source": [
    "list1"
   ]
  },
  {
   "cell_type": "code",
   "execution_count": 30,
   "id": "d1ced2a4",
   "metadata": {},
   "outputs": [],
   "source": [
    "del list1[2]"
   ]
  },
  {
   "cell_type": "code",
   "execution_count": 31,
   "id": "9aa377ac",
   "metadata": {},
   "outputs": [
    {
     "data": {
      "text/plain": [
       "[10, 20, 'India', 'USA', 'China', 99, 100, 200, 89, 8, 7]"
      ]
     },
     "execution_count": 31,
     "metadata": {},
     "output_type": "execute_result"
    }
   ],
   "source": [
    "list1"
   ]
  },
  {
   "cell_type": "code",
   "execution_count": 32,
   "id": "28d81641",
   "metadata": {},
   "outputs": [
    {
     "data": {
      "text/plain": [
       "7"
      ]
     },
     "execution_count": 32,
     "metadata": {},
     "output_type": "execute_result"
    }
   ],
   "source": [
    "list1.pop() # last element removed and return to screen"
   ]
  },
  {
   "cell_type": "code",
   "execution_count": 33,
   "id": "b6f1dd37",
   "metadata": {},
   "outputs": [
    {
     "data": {
      "text/plain": [
       "[10, 20, 'India', 'USA', 'China', 99, 100, 200, 89, 8]"
      ]
     },
     "execution_count": 33,
     "metadata": {},
     "output_type": "execute_result"
    }
   ],
   "source": [
    "list1"
   ]
  },
  {
   "cell_type": "code",
   "execution_count": 34,
   "id": "46290092",
   "metadata": {},
   "outputs": [
    {
     "data": {
      "text/plain": [
       "[10, 20, 'USA', 'China', 99, 100, 200, 89, 8]"
      ]
     },
     "execution_count": 34,
     "metadata": {},
     "output_type": "execute_result"
    }
   ],
   "source": [
    "list1.pop(2)\n",
    "list1"
   ]
  },
  {
   "cell_type": "code",
   "execution_count": 35,
   "id": "928378cc",
   "metadata": {},
   "outputs": [],
   "source": [
    "list1.remove(\"USA\") # first occurance of USA get deleted"
   ]
  },
  {
   "cell_type": "code",
   "execution_count": 36,
   "id": "f8a74edc",
   "metadata": {},
   "outputs": [
    {
     "data": {
      "text/plain": [
       "[10, 20, 'China', 99, 100, 200, 89, 8]"
      ]
     },
     "execution_count": 36,
     "metadata": {},
     "output_type": "execute_result"
    }
   ],
   "source": [
    "list1"
   ]
  },
  {
   "cell_type": "code",
   "execution_count": 37,
   "id": "dc16b6ba",
   "metadata": {},
   "outputs": [
    {
     "name": "stdout",
     "output_type": "stream",
     "text": [
      "x is  10\n",
      "x is  20\n",
      "x is  China\n",
      "x is  99\n",
      "x is  100\n",
      "x is  200\n",
      "x is  89\n",
      "x is  8\n"
     ]
    }
   ],
   "source": [
    "for x in list1:\n",
    "    print(\"x is \", x)"
   ]
  },
  {
   "cell_type": "code",
   "execution_count": 38,
   "id": "1ba090ae",
   "metadata": {},
   "outputs": [
    {
     "name": "stdout",
     "output_type": "stream",
     "text": [
      "element at  0 location is  10\n",
      "element at  1 location is  20\n",
      "element at  2 location is  China\n",
      "element at  3 location is  99\n",
      "element at  4 location is  100\n",
      "element at  5 location is  200\n",
      "element at  6 location is  89\n",
      "element at  7 location is  8\n"
     ]
    }
   ],
   "source": [
    "for x in range(len(list1)):\n",
    "    print(\"element at \", x, \"location is \", list1[x])"
   ]
  },
  {
   "cell_type": "code",
   "execution_count": null,
   "id": "449b8bad",
   "metadata": {},
   "outputs": [],
   "source": [
    "'''\n",
    "places = ['Delhi', 'Mumbai', 'CHENNAI', 'Jaipur']\n",
    "attractions = ['Red Fort','Gateway of India', 'Marina Beach', 'Amer Fort']\n",
    "\n",
    "ques 1:- print messages\n",
    "Delhi has an attraction Red Fort\n",
    "Mumbai has an attraction Gateway of India\n",
    "..\n",
    "...\n",
    "\n",
    "ques 2:- take input from user any place and print its attraction\n",
    "user should get max 3 chance to enter the right place. if all attempts fails print Failure\n",
    "at any point user enters the right place, print its attraction and do not ask again\n",
    "search of place should be case insensitive\n",
    "'''"
   ]
  },
  {
   "cell_type": "code",
   "execution_count": 40,
   "id": "c526bccf",
   "metadata": {},
   "outputs": [
    {
     "name": "stdout",
     "output_type": "stream",
     "text": [
      "Delhi has an attraction  Red Fort\n",
      "Mumbai has an attraction  India Gate\n",
      "CHENNaI has an attraction  Beach\n",
      "Jaipur has an attraction  Fort\n"
     ]
    }
   ],
   "source": [
    "places = [\"Delhi\", \"Mumbai\", \"CHENNaI\", \"Jaipur\"]\n",
    "attractions = [\"Red Fort\", \"India Gate\", \"Beach\", \"Fort\"]\n",
    "for i in range(len(places)):\n",
    "   print(places[i], \"has an attraction \", attractions[i])"
   ]
  },
  {
   "cell_type": "code",
   "execution_count": 44,
   "id": "d4b9edab",
   "metadata": {},
   "outputs": [
    {
     "name": "stdout",
     "output_type": "stream",
     "text": [
      "Please enter the place to find its attraction : delhi\n",
      "attraction of this place is  Red Fort\n"
     ]
    }
   ],
   "source": [
    "count=1\n",
    "found=0\n",
    "while count<=3 and found==0:\n",
    "    p = input(\"Please enter the place to find its attraction : \")\n",
    "    for x in range(len(places)):\n",
    "        if p.upper() == places[x].upper():\n",
    "            print(\"attraction of this place is \", attractions[x])\n",
    "            found=1\n",
    "    count+=1\n",
    "    \n",
    "if found==0:\n",
    "    print(\"Sorry all attempts exhausted\")"
   ]
  },
  {
   "cell_type": "code",
   "execution_count": null,
   "id": "9227c9f3",
   "metadata": {},
   "outputs": [],
   "source": [
    "# tuples - similar to lists but they are immutable\n",
    "# once defined we cannot change contents of a tuple\n",
    "# append, extend, insert, +, pop, del do not works in tuples\n",
    "# they are 10 times faster in accessing elements as compared to lists as they are read only\n",
    "# we store important info like adhaar card no, passport no, DL number, production server path etc\n"
   ]
  },
  {
   "cell_type": "code",
   "execution_count": 45,
   "id": "25eb0fcf",
   "metadata": {},
   "outputs": [
    {
     "data": {
      "text/plain": [
       "tuple"
      ]
     },
     "execution_count": 45,
     "metadata": {},
     "output_type": "execute_result"
    }
   ],
   "source": [
    "tup=()\n",
    "type(tup)"
   ]
  },
  {
   "cell_type": "code",
   "execution_count": 46,
   "id": "ae4df998",
   "metadata": {},
   "outputs": [
    {
     "data": {
      "text/plain": [
       "10"
      ]
     },
     "execution_count": 46,
     "metadata": {},
     "output_type": "execute_result"
    }
   ],
   "source": [
    "tup=(10,20,30)\n",
    "tup[0]"
   ]
  },
  {
   "cell_type": "code",
   "execution_count": 47,
   "id": "3a9e7e7b",
   "metadata": {},
   "outputs": [
    {
     "data": {
      "text/plain": [
       "30"
      ]
     },
     "execution_count": 47,
     "metadata": {},
     "output_type": "execute_result"
    }
   ],
   "source": [
    "tup[-1]"
   ]
  },
  {
   "cell_type": "code",
   "execution_count": 48,
   "id": "f762e578",
   "metadata": {},
   "outputs": [
    {
     "ename": "TypeError",
     "evalue": "'tuple' object does not support item assignment",
     "output_type": "error",
     "traceback": [
      "\u001b[0;31m---------------------------------------------------------------------------\u001b[0m",
      "\u001b[0;31mTypeError\u001b[0m                                 Traceback (most recent call last)",
      "Cell \u001b[0;32mIn[48], line 1\u001b[0m\n\u001b[0;32m----> 1\u001b[0m tup[\u001b[38;5;241m0\u001b[39m]\u001b[38;5;241m=\u001b[39m\u001b[38;5;241m100\u001b[39m\n",
      "\u001b[0;31mTypeError\u001b[0m: 'tuple' object does not support item assignment"
     ]
    }
   ],
   "source": [
    "tup[0]=100"
   ]
  },
  {
   "cell_type": "code",
   "execution_count": 49,
   "id": "225a992b",
   "metadata": {},
   "outputs": [
    {
     "data": {
      "text/plain": [
       "True"
      ]
     },
     "execution_count": 49,
     "metadata": {},
     "output_type": "execute_result"
    }
   ],
   "source": [
    "10 in tup"
   ]
  },
  {
   "cell_type": "code",
   "execution_count": 50,
   "id": "c9e01ea3",
   "metadata": {},
   "outputs": [
    {
     "data": {
      "text/plain": [
       "True"
      ]
     },
     "execution_count": 50,
     "metadata": {},
     "output_type": "execute_result"
    }
   ],
   "source": [
    "100 not in tup"
   ]
  },
  {
   "cell_type": "code",
   "execution_count": null,
   "id": "68100e55",
   "metadata": {},
   "outputs": [],
   "source": [
    "'''\n",
    "dictionary => key value pair\n",
    "keys are unique\n",
    "values can be duplicated\n",
    "in clause checks by default all the keys\n",
    "d.keys() - returns all the keys\n",
    "d.values() - returns all the values\n",
    "d.items() - returns key value pairs\n",
    "d.pop(key)  - deletes the key value pair and returns the value on the screen\n",
    "d[new key] = value => will add new key value pair\n",
    "'''"
   ]
  },
  {
   "cell_type": "code",
   "execution_count": 51,
   "id": "6410fd0d",
   "metadata": {},
   "outputs": [
    {
     "data": {
      "text/plain": [
       "{'name': 'amit', 'age': 22, 'salary': 20000}"
      ]
     },
     "execution_count": 51,
     "metadata": {},
     "output_type": "execute_result"
    }
   ],
   "source": [
    "d={'name':'amit', 'age':22, 'salary':20000}\n",
    "d"
   ]
  },
  {
   "cell_type": "code",
   "execution_count": 52,
   "id": "c8729ad4",
   "metadata": {},
   "outputs": [
    {
     "data": {
      "text/plain": [
       "dict"
      ]
     },
     "execution_count": 52,
     "metadata": {},
     "output_type": "execute_result"
    }
   ],
   "source": [
    "type(d)"
   ]
  },
  {
   "cell_type": "code",
   "execution_count": 53,
   "id": "be7633bc",
   "metadata": {},
   "outputs": [
    {
     "data": {
      "text/plain": [
       "True"
      ]
     },
     "execution_count": 53,
     "metadata": {},
     "output_type": "execute_result"
    }
   ],
   "source": [
    "'name' in d"
   ]
  },
  {
   "cell_type": "code",
   "execution_count": 54,
   "id": "cc4a8846",
   "metadata": {},
   "outputs": [
    {
     "data": {
      "text/plain": [
       "True"
      ]
     },
     "execution_count": 54,
     "metadata": {},
     "output_type": "execute_result"
    }
   ],
   "source": [
    "'name' in d.keys()"
   ]
  },
  {
   "cell_type": "code",
   "execution_count": 55,
   "id": "61975100",
   "metadata": {},
   "outputs": [
    {
     "data": {
      "text/plain": [
       "dict_values(['amit', 22, 20000])"
      ]
     },
     "execution_count": 55,
     "metadata": {},
     "output_type": "execute_result"
    }
   ],
   "source": [
    "d.values()"
   ]
  },
  {
   "cell_type": "code",
   "execution_count": 56,
   "id": "8be32dd8",
   "metadata": {},
   "outputs": [
    {
     "data": {
      "text/plain": [
       "dict_keys(['name', 'age', 'salary'])"
      ]
     },
     "execution_count": 56,
     "metadata": {},
     "output_type": "execute_result"
    }
   ],
   "source": [
    "d.keys()"
   ]
  },
  {
   "cell_type": "code",
   "execution_count": 57,
   "id": "2ab72db0",
   "metadata": {},
   "outputs": [
    {
     "data": {
      "text/plain": [
       "dict_items([('name', 'amit'), ('age', 22), ('salary', 20000)])"
      ]
     },
     "execution_count": 57,
     "metadata": {},
     "output_type": "execute_result"
    }
   ],
   "source": [
    "d.items()"
   ]
  },
  {
   "cell_type": "code",
   "execution_count": 58,
   "id": "65b80117",
   "metadata": {},
   "outputs": [
    {
     "name": "stdout",
     "output_type": "stream",
     "text": [
      "key is  name and value is  amit\n",
      "key is  age and value is  22\n",
      "key is  salary and value is  20000\n"
     ]
    }
   ],
   "source": [
    "for k,v in d.items():\n",
    "    print(\"key is \", k, \"and value is \", v)"
   ]
  },
  {
   "cell_type": "code",
   "execution_count": 59,
   "id": "9c641cce",
   "metadata": {},
   "outputs": [
    {
     "data": {
      "text/plain": [
       "22"
      ]
     },
     "execution_count": 59,
     "metadata": {},
     "output_type": "execute_result"
    }
   ],
   "source": [
    "d.pop('age')"
   ]
  },
  {
   "cell_type": "code",
   "execution_count": 60,
   "id": "d648ece9",
   "metadata": {},
   "outputs": [
    {
     "data": {
      "text/plain": [
       "{'name': 'amit', 'salary': 20000}"
      ]
     },
     "execution_count": 60,
     "metadata": {},
     "output_type": "execute_result"
    }
   ],
   "source": [
    "d"
   ]
  },
  {
   "cell_type": "code",
   "execution_count": 61,
   "id": "76a9ae21",
   "metadata": {},
   "outputs": [
    {
     "data": {
      "text/plain": [
       "{'name': 'amit', 'salary': 20000, 'new age': 33}"
      ]
     },
     "execution_count": 61,
     "metadata": {},
     "output_type": "execute_result"
    }
   ],
   "source": [
    "d['new age'] = 33\n",
    "d"
   ]
  },
  {
   "cell_type": "code",
   "execution_count": null,
   "id": "64e4593a",
   "metadata": {},
   "outputs": [],
   "source": [
    "'''\n",
    "1. take input from user key as roll number and name as value and store it in dictionary\n",
    "do this infinitely till user enters 0 or negative roll number\n",
    "\n",
    "2. once dictionary is created ask user roll number, if roll number is found print name of student\n",
    "user should get max 3 chance to enter right roll number\n",
    "\n",
    "3. take input name of student and create a list of all roll numbers having that name. search of\n",
    "name should be case insensitive. if name not found, print \"there is no student with this name\"\n",
    "\n",
    "'''"
   ]
  },
  {
   "cell_type": "code",
   "execution_count": 69,
   "id": "0f4518fd",
   "metadata": {},
   "outputs": [
    {
     "name": "stdout",
     "output_type": "stream",
     "text": [
      "Please enter the roll number : 101\n",
      "Please enter student name : AMIT\n",
      "Please enter the roll number : 102\n",
      "Please enter student name : suman\n",
      "Please enter the roll number : 103\n",
      "Please enter student name : AMit\n",
      "Please enter the roll number : 104\n",
      "Please enter student name : AmIT\n",
      "Please enter the roll number : 106\n",
      "Please enter student name : kiran\n",
      "Please enter the roll number : -9\n",
      "{101: 'AMIT', 102: 'suman', 103: 'AMit', 104: 'AmIT', 106: 'kiran'}\n"
     ]
    }
   ],
   "source": [
    "roll_number = 1\n",
    "d={}\n",
    "while roll_number > 0:\n",
    "    roll_number = int(input(\"Please enter the roll number : \"))\n",
    "    if roll_number > 0:\n",
    "        name = input(\"Please enter student name : \")\n",
    "        d[roll_number] = name\n",
    "print(d)"
   ]
  },
  {
   "cell_type": "code",
   "execution_count": 68,
   "id": "050b5bfa",
   "metadata": {},
   "outputs": [
    {
     "name": "stdout",
     "output_type": "stream",
     "text": [
      "Please enter the roll number to find name of student : 109\n",
      "Please enter the roll number to find name of student : 109\n",
      "Please enter the roll number to find name of student : 109\n",
      "Sorry all attempts exhausted\n"
     ]
    }
   ],
   "source": [
    "found = 0\n",
    "count = 1\n",
    "while count <= 3 and found == 0:\n",
    "    roll_number = int(input(\"Please enter the roll number to find name of student : \"))\n",
    "    if roll_number in d.keys():\n",
    "        found = 1\n",
    "        print(\"name is \", d[roll_number])\n",
    "    count+=1\n",
    "if found == 0:\n",
    "    print(\"Sorry all attempts exhausted\")"
   ]
  },
  {
   "cell_type": "code",
   "execution_count": 73,
   "id": "5699126d",
   "metadata": {},
   "outputs": [
    {
     "name": "stdout",
     "output_type": "stream",
     "text": [
      "Please enter name so that I can tell you list of students with that name : amit\n",
      "[101, 103, 104]\n"
     ]
    }
   ],
   "source": [
    "list1 = []\n",
    "name = input(\"Please enter name so that I can tell you list of students with that name : \")\n",
    "for k,v in d.items():\n",
    "    if v.upper() == name.upper():\n",
    "        list1.append(k)\n",
    "if len(list1)>0:\n",
    "    print(list1)\n",
    "else:\n",
    "    print(\"Sorry no student found with that name\")"
   ]
  },
  {
   "cell_type": "code",
   "execution_count": null,
   "id": "06ed7047",
   "metadata": {},
   "outputs": [],
   "source": []
  },
  {
   "cell_type": "code",
   "execution_count": null,
   "id": "bdfb975c",
   "metadata": {},
   "outputs": [],
   "source": []
  },
  {
   "cell_type": "code",
   "execution_count": null,
   "id": "5a46df45",
   "metadata": {},
   "outputs": [],
   "source": []
  },
  {
   "cell_type": "code",
   "execution_count": null,
   "id": "66004ef4",
   "metadata": {},
   "outputs": [],
   "source": []
  }
 ],
 "metadata": {
  "kernelspec": {
   "display_name": "Python 3 (ipykernel)",
   "language": "python",
   "name": "python3"
  },
  "language_info": {
   "codemirror_mode": {
    "name": "ipython",
    "version": 3
   },
   "file_extension": ".py",
   "mimetype": "text/x-python",
   "name": "python",
   "nbconvert_exporter": "python",
   "pygments_lexer": "ipython3",
   "version": "3.11.6"
  }
 },
 "nbformat": 4,
 "nbformat_minor": 5
}
