{
 "cells": [
  {
   "cell_type": "code",
   "execution_count": 1,
   "id": "b9527e4a",
   "metadata": {},
   "outputs": [
    {
     "name": "stdout",
     "output_type": "stream",
     "text": [
      "<__main__.Car object at 0x104ea1fc0>\n",
      "<__main__.Car object at 0x104ea2140>\n"
     ]
    }
   ],
   "source": [
    "class Car():\n",
    "    pass\n",
    "\n",
    "van = Car()\n",
    "sedan = Car()\n",
    "# all the objects derived from a class works in different memory address\n",
    "print(van)\n",
    "print(sedan)"
   ]
  },
  {
   "cell_type": "code",
   "execution_count": 2,
   "id": "5bde071e",
   "metadata": {},
   "outputs": [
    {
     "name": "stdout",
     "output_type": "stream",
     "text": [
      "i have 4 tyres\n"
     ]
    }
   ],
   "source": [
    "# functions are called as methods in class\n",
    "# they contain default parameter called self (self contains the memory address of an object)\n",
    "\n",
    "class Car():\n",
    "    def tyres(self):\n",
    "        print(\"i have 4 tyres\")\n",
    "        \n",
    "obj = Car()\n",
    "obj.tyres()\n",
    "    "
   ]
  },
  {
   "cell_type": "code",
   "execution_count": 3,
   "id": "59a2bca2",
   "metadata": {},
   "outputs": [
    {
     "name": "stdout",
     "output_type": "stream",
     "text": [
      "i have 4 tyres\n",
      "my color is  RED\n"
     ]
    }
   ],
   "source": [
    "class Car():\n",
    "    def tyres(self, num):\n",
    "        print(\"i have\", num, \"tyres\")\n",
    "        \n",
    "    def color(self, c):\n",
    "        print(\"my color is \", c)\n",
    "        \n",
    "obj = Car()\n",
    "obj.tyres(4)\n",
    "obj.color(\"RED\")"
   ]
  },
  {
   "cell_type": "code",
   "execution_count": 4,
   "id": "fee0fd10",
   "metadata": {},
   "outputs": [
    {
     "name": "stdout",
     "output_type": "stream",
     "text": [
      "i am constructor\n",
      "i am constructor\n"
     ]
    }
   ],
   "source": [
    "# constructors are autoexecutable methods that get invoked automatically as soon \n",
    "# as object is created\n",
    "\n",
    "class Car():\n",
    "    def __init__(self):\n",
    "        print(\"i am constructor\")\n",
    "        \n",
    "obj1 = Car()\n",
    "obj2 = Car()"
   ]
  },
  {
   "cell_type": "code",
   "execution_count": 6,
   "id": "f708ce00",
   "metadata": {},
   "outputs": [
    {
     "name": "stdout",
     "output_type": "stream",
     "text": [
      "i have 4 tyres\n",
      "my color is  RED and i have 4 tyres\n"
     ]
    }
   ],
   "source": [
    "class Car():\n",
    "    def tyres(self, num):\n",
    "        print(\"i have\", num, \"tyres\")\n",
    "        \n",
    "    def color(self, c, num):\n",
    "        print(\"my color is \", c, \"and i have\", num, \"tyres\")\n",
    "        \n",
    "obj = Car()\n",
    "obj.tyres(4)\n",
    "obj.color(\"RED\", 4)"
   ]
  },
  {
   "cell_type": "code",
   "execution_count": 7,
   "id": "b04b1fac",
   "metadata": {},
   "outputs": [
    {
     "name": "stdout",
     "output_type": "stream",
     "text": [
      "i have 4 tyres\n",
      "my color is  RED and i have 4 tyres\n"
     ]
    }
   ],
   "source": [
    "class Car():\n",
    "    def __init__(self, num, c):\n",
    "        self.num = num # self.num is an object variable \n",
    "        self.c = c\n",
    "        \n",
    "    def tyres(self):\n",
    "        print(\"i have\", self.num, \"tyres\")\n",
    "        \n",
    "    def color(self):\n",
    "        print(\"my color is \", self.c, \"and i have\", self.num, \"tyres\")\n",
    "        \n",
    "obj = Car(4, \"RED\")\n",
    "obj.tyres()\n",
    "obj.color()"
   ]
  },
  {
   "cell_type": "code",
   "execution_count": null,
   "id": "558972df",
   "metadata": {},
   "outputs": [],
   "source": [
    "'''\n",
    "create class circle in which take input radius in constructor\n",
    "and in area method find area and in perimeter method find perimeter of circle\n",
    "\n",
    "create class list_manipulation, in which take input elements of a list one by one\n",
    "till user enters -999\n",
    "in find_outlier method find the outlier in that list. use any of the methods \n",
    "3 Standard Deviation  technique (3 SD) or Inter Quartile Range (IQR) method\n",
    "'''\n",
    "\n",
    "import numpy as np\n",
    "\n",
    "class list_manipulation():\n",
    "\n",
    "  lst = []\n",
    "\n",
    "  def __init__(self):\n",
    "\n",
    "    STOP = '-999'\n",
    "\n",
    "    self.lst = list(iter(input, STOP))\n",
    "\n",
    " \n",
    "\n",
    "  def printList(self):\n",
    "\n",
    "    print(\"Input list is: \",self.lst)\n",
    "\n",
    " \n",
    "\n",
    "  def find_outlier(self):\n",
    "\n",
    "    l1 = [eval(i) for i in self.lst]\n",
    "\n",
    "    elements = np.array(l1)\n",
    "    avg = np.mean(elements, axis=0)\n",
    "    sd = np.std(elements, axis=0)\n",
    "    final_list = [x for x in l1 if (x > avg - 3 * sd)]\n",
    "    final_list = [x for x in final_list if (x < avg + 3 * sd)]\n",
    "    print(\"Final list is: \", final_list)\n",
    "\n",
    " \n",
    "\n",
    "obj = list_manipulation()\n",
    "obj.printList()\n",
    "obj.find_outlier()\n",
    "has context menu\n",
    "Compose"
   ]
  },
  {
   "cell_type": "code",
   "execution_count": null,
   "id": "8eb29aa0",
   "metadata": {},
   "outputs": [],
   "source": [
    "import math\n",
    "\n",
    "class Circle():\n",
    "\n",
    "  def __init__(self, r):\n",
    "\n",
    "    self.r = r\n",
    "\n",
    " \n",
    "\n",
    "  def area(self):\n",
    "\n",
    "    a = math.pi*self.r**2\n",
    "\n",
    "    print(\"Area is: \", a)\n",
    "\n",
    " \n",
    "\n",
    "  def perimeter(self):\n",
    "\n",
    "    p = 2*math.pi*self.r\n",
    "\n",
    "    print(\"Perimeter is: \", p)\n",
    "\n",
    " \n",
    "\n",
    "rad = float(input(\"Please enter the radius: \"))\n",
    "obj = Circle(rad)\n",
    "obj.area()\n",
    "obj.perimeter()"
   ]
  },
  {
   "cell_type": "code",
   "execution_count": null,
   "id": "fb6ba858",
   "metadata": {},
   "outputs": [],
   "source": [
    "# pandas is a library for data analytics\n",
    "# series (contains single dimentional data) and dataframes contains (2 dimentional data)"
   ]
  },
  {
   "cell_type": "code",
   "execution_count": 8,
   "id": "6cb9ca1b",
   "metadata": {},
   "outputs": [],
   "source": [
    "d={'name':['amit','sumit','suman','john'], 'age':[22,33,43,48], 'salary':[3000,4000,5000,6000]}"
   ]
  },
  {
   "cell_type": "code",
   "execution_count": 10,
   "id": "abbb2c27",
   "metadata": {},
   "outputs": [
    {
     "data": {
      "text/html": [
       "<div>\n",
       "<style scoped>\n",
       "    .dataframe tbody tr th:only-of-type {\n",
       "        vertical-align: middle;\n",
       "    }\n",
       "\n",
       "    .dataframe tbody tr th {\n",
       "        vertical-align: top;\n",
       "    }\n",
       "\n",
       "    .dataframe thead th {\n",
       "        text-align: right;\n",
       "    }\n",
       "</style>\n",
       "<table border=\"1\" class=\"dataframe\">\n",
       "  <thead>\n",
       "    <tr style=\"text-align: right;\">\n",
       "      <th></th>\n",
       "      <th>name</th>\n",
       "      <th>age</th>\n",
       "      <th>salary</th>\n",
       "    </tr>\n",
       "  </thead>\n",
       "  <tbody>\n",
       "    <tr>\n",
       "      <th>0</th>\n",
       "      <td>amit</td>\n",
       "      <td>22</td>\n",
       "      <td>3000</td>\n",
       "    </tr>\n",
       "    <tr>\n",
       "      <th>1</th>\n",
       "      <td>sumit</td>\n",
       "      <td>33</td>\n",
       "      <td>4000</td>\n",
       "    </tr>\n",
       "    <tr>\n",
       "      <th>2</th>\n",
       "      <td>suman</td>\n",
       "      <td>43</td>\n",
       "      <td>5000</td>\n",
       "    </tr>\n",
       "    <tr>\n",
       "      <th>3</th>\n",
       "      <td>john</td>\n",
       "      <td>48</td>\n",
       "      <td>6000</td>\n",
       "    </tr>\n",
       "  </tbody>\n",
       "</table>\n",
       "</div>"
      ],
      "text/plain": [
       "    name  age  salary\n",
       "0   amit   22    3000\n",
       "1  sumit   33    4000\n",
       "2  suman   43    5000\n",
       "3   john   48    6000"
      ]
     },
     "execution_count": 10,
     "metadata": {},
     "output_type": "execute_result"
    }
   ],
   "source": [
    "# keys of dictionary become column headings\n",
    "import pandas\n",
    "df = pandas.DataFrame(d)\n",
    "df"
   ]
  },
  {
   "cell_type": "code",
   "execution_count": 11,
   "id": "0824717b",
   "metadata": {},
   "outputs": [
    {
     "data": {
      "text/html": [
       "<div>\n",
       "<style scoped>\n",
       "    .dataframe tbody tr th:only-of-type {\n",
       "        vertical-align: middle;\n",
       "    }\n",
       "\n",
       "    .dataframe tbody tr th {\n",
       "        vertical-align: top;\n",
       "    }\n",
       "\n",
       "    .dataframe thead th {\n",
       "        text-align: right;\n",
       "    }\n",
       "</style>\n",
       "<table border=\"1\" class=\"dataframe\">\n",
       "  <thead>\n",
       "    <tr style=\"text-align: right;\">\n",
       "      <th></th>\n",
       "      <th>age</th>\n",
       "      <th>salary</th>\n",
       "    </tr>\n",
       "  </thead>\n",
       "  <tbody>\n",
       "    <tr>\n",
       "      <th>count</th>\n",
       "      <td>4.000000</td>\n",
       "      <td>4.000000</td>\n",
       "    </tr>\n",
       "    <tr>\n",
       "      <th>mean</th>\n",
       "      <td>36.500000</td>\n",
       "      <td>4500.000000</td>\n",
       "    </tr>\n",
       "    <tr>\n",
       "      <th>std</th>\n",
       "      <td>11.503623</td>\n",
       "      <td>1290.994449</td>\n",
       "    </tr>\n",
       "    <tr>\n",
       "      <th>min</th>\n",
       "      <td>22.000000</td>\n",
       "      <td>3000.000000</td>\n",
       "    </tr>\n",
       "    <tr>\n",
       "      <th>25%</th>\n",
       "      <td>30.250000</td>\n",
       "      <td>3750.000000</td>\n",
       "    </tr>\n",
       "    <tr>\n",
       "      <th>50%</th>\n",
       "      <td>38.000000</td>\n",
       "      <td>4500.000000</td>\n",
       "    </tr>\n",
       "    <tr>\n",
       "      <th>75%</th>\n",
       "      <td>44.250000</td>\n",
       "      <td>5250.000000</td>\n",
       "    </tr>\n",
       "    <tr>\n",
       "      <th>max</th>\n",
       "      <td>48.000000</td>\n",
       "      <td>6000.000000</td>\n",
       "    </tr>\n",
       "  </tbody>\n",
       "</table>\n",
       "</div>"
      ],
      "text/plain": [
       "             age       salary\n",
       "count   4.000000     4.000000\n",
       "mean   36.500000  4500.000000\n",
       "std    11.503623  1290.994449\n",
       "min    22.000000  3000.000000\n",
       "25%    30.250000  3750.000000\n",
       "50%    38.000000  4500.000000\n",
       "75%    44.250000  5250.000000\n",
       "max    48.000000  6000.000000"
      ]
     },
     "execution_count": 11,
     "metadata": {},
     "output_type": "execute_result"
    }
   ],
   "source": [
    "df.describe() # basic statistical information of all numerical columns"
   ]
  },
  {
   "cell_type": "code",
   "execution_count": null,
   "id": "9e4611ee",
   "metadata": {},
   "outputs": [],
   "source": [
    "# in pandas, string column is stored as an object\n",
    "# if the column is having all integers - datatype of that column will be integer\n",
    "# if the column is having all integers and single missing value is there, datatype will be float\n",
    "# missing values are called NaN => not a applicable value or missing value"
   ]
  },
  {
   "cell_type": "code",
   "execution_count": 12,
   "id": "bde6617c",
   "metadata": {},
   "outputs": [
    {
     "data": {
      "text/html": [
       "<div>\n",
       "<style scoped>\n",
       "    .dataframe tbody tr th:only-of-type {\n",
       "        vertical-align: middle;\n",
       "    }\n",
       "\n",
       "    .dataframe tbody tr th {\n",
       "        vertical-align: top;\n",
       "    }\n",
       "\n",
       "    .dataframe thead th {\n",
       "        text-align: right;\n",
       "    }\n",
       "</style>\n",
       "<table border=\"1\" class=\"dataframe\">\n",
       "  <thead>\n",
       "    <tr style=\"text-align: right;\">\n",
       "      <th></th>\n",
       "      <th>Last Name</th>\n",
       "      <th>First_Name</th>\n",
       "      <th>Rating</th>\n",
       "      <th>hours</th>\n",
       "      <th>Price</th>\n",
       "    </tr>\n",
       "  </thead>\n",
       "  <tbody>\n",
       "    <tr>\n",
       "      <th>0</th>\n",
       "      <td>NaN</td>\n",
       "      <td>Gandhali</td>\n",
       "      <td>excellent</td>\n",
       "      <td>10.0</td>\n",
       "      <td>1000</td>\n",
       "    </tr>\n",
       "    <tr>\n",
       "      <th>1</th>\n",
       "      <td>Gadde</td>\n",
       "      <td>Kavita</td>\n",
       "      <td>excellent</td>\n",
       "      <td>2.0</td>\n",
       "      <td>2000</td>\n",
       "    </tr>\n",
       "    <tr>\n",
       "      <th>2</th>\n",
       "      <td>NaN</td>\n",
       "      <td>gowtham</td>\n",
       "      <td>good</td>\n",
       "      <td>30.0</td>\n",
       "      <td>3000</td>\n",
       "    </tr>\n",
       "    <tr>\n",
       "      <th>3</th>\n",
       "      <td>Hassan</td>\n",
       "      <td>NaN</td>\n",
       "      <td>NaN</td>\n",
       "      <td>10.0</td>\n",
       "      <td>2000</td>\n",
       "    </tr>\n",
       "    <tr>\n",
       "      <th>4</th>\n",
       "      <td>Kumar</td>\n",
       "      <td>Parveen</td>\n",
       "      <td>excellent</td>\n",
       "      <td>NaN</td>\n",
       "      <td>2200</td>\n",
       "    </tr>\n",
       "    <tr>\n",
       "      <th>5</th>\n",
       "      <td>Gupta</td>\n",
       "      <td>Sanjeev</td>\n",
       "      <td>excellent</td>\n",
       "      <td>11.0</td>\n",
       "      <td>2233</td>\n",
       "    </tr>\n",
       "    <tr>\n",
       "      <th>6</th>\n",
       "      <td>ramalingam</td>\n",
       "      <td>lakshmanan</td>\n",
       "      <td>average</td>\n",
       "      <td>23.0</td>\n",
       "      <td>1232</td>\n",
       "    </tr>\n",
       "    <tr>\n",
       "      <th>7</th>\n",
       "      <td>NaN</td>\n",
       "      <td>Venkatesh</td>\n",
       "      <td>excellent</td>\n",
       "      <td>18.0</td>\n",
       "      <td>1899</td>\n",
       "    </tr>\n",
       "    <tr>\n",
       "      <th>8</th>\n",
       "      <td>Kumar</td>\n",
       "      <td>Amit</td>\n",
       "      <td>excellent</td>\n",
       "      <td>22.0</td>\n",
       "      <td>1919</td>\n",
       "    </tr>\n",
       "    <tr>\n",
       "      <th>9</th>\n",
       "      <td>Jain</td>\n",
       "      <td>Sudhir</td>\n",
       "      <td>good</td>\n",
       "      <td>11.0</td>\n",
       "      <td>122</td>\n",
       "    </tr>\n",
       "  </tbody>\n",
       "</table>\n",
       "</div>"
      ],
      "text/plain": [
       "  Last Name           First_Name              Rating  hours  Price\n",
       "0                 NaN            Gandhali  excellent   10.0   1000\n",
       "1               Gadde              Kavita  excellent    2.0   2000\n",
       "2                 NaN             gowtham       good   30.0   3000\n",
       "3              Hassan                 NaN        NaN   10.0   2000\n",
       "4               Kumar             Parveen  excellent    NaN   2200\n",
       "5               Gupta             Sanjeev  excellent   11.0   2233\n",
       "6          ramalingam          lakshmanan    average   23.0   1232\n",
       "7                 NaN           Venkatesh  excellent   18.0   1899\n",
       "8               Kumar                Amit  excellent   22.0   1919\n",
       "9                Jain              Sudhir       good   11.0    122"
      ]
     },
     "execution_count": 12,
     "metadata": {},
     "output_type": "execute_result"
    }
   ],
   "source": [
    "df = pandas.read_csv(r'/Users/abhaya/Desktop/Day 3/feedback1.csv')\n",
    "df"
   ]
  },
  {
   "cell_type": "code",
   "execution_count": 13,
   "id": "5bf59d59",
   "metadata": {},
   "outputs": [
    {
     "data": {
      "text/plain": [
       "Last Name               object\n",
       "First_Name              object\n",
       "Rating                  object\n",
       "hours                  float64\n",
       "Price                    int64\n",
       "dtype: object"
      ]
     },
     "execution_count": 13,
     "metadata": {},
     "output_type": "execute_result"
    }
   ],
   "source": [
    "df.dtypes"
   ]
  },
  {
   "cell_type": "code",
   "execution_count": 14,
   "id": "508cb47e",
   "metadata": {},
   "outputs": [
    {
     "data": {
      "text/plain": [
       "Index(['Last Name          ', 'First_Name         ', 'Rating', 'hours',\n",
       "       'Price'],\n",
       "      dtype='object')"
      ]
     },
     "execution_count": 14,
     "metadata": {},
     "output_type": "execute_result"
    }
   ],
   "source": [
    "df.columns # name of the columns"
   ]
  },
  {
   "cell_type": "code",
   "execution_count": 15,
   "id": "0715545b",
   "metadata": {},
   "outputs": [
    {
     "data": {
      "text/plain": [
       "Index(['Last Name', 'First_Name', 'Rating', 'hours', 'Price'], dtype='object')"
      ]
     },
     "execution_count": 15,
     "metadata": {},
     "output_type": "execute_result"
    }
   ],
   "source": [
    "df.columns = df.columns.str.strip()\n",
    "df.columns"
   ]
  },
  {
   "cell_type": "code",
   "execution_count": 16,
   "id": "9640c7a2",
   "metadata": {},
   "outputs": [
    {
     "data": {
      "text/plain": [
       "(10, 5)"
      ]
     },
     "execution_count": 16,
     "metadata": {},
     "output_type": "execute_result"
    }
   ],
   "source": [
    "df.shape # rows Vs columns"
   ]
  },
  {
   "cell_type": "code",
   "execution_count": null,
   "id": "dd67a9a1",
   "metadata": {},
   "outputs": [],
   "source": [
    "# 3 important things you must after reading data in dataframe\n",
    "# df.shape\n",
    "# df.columns\n",
    "# df.dtypes"
   ]
  },
  {
   "cell_type": "code",
   "execution_count": 17,
   "id": "14391134",
   "metadata": {},
   "outputs": [
    {
     "data": {
      "text/html": [
       "<div>\n",
       "<style scoped>\n",
       "    .dataframe tbody tr th:only-of-type {\n",
       "        vertical-align: middle;\n",
       "    }\n",
       "\n",
       "    .dataframe tbody tr th {\n",
       "        vertical-align: top;\n",
       "    }\n",
       "\n",
       "    .dataframe thead th {\n",
       "        text-align: right;\n",
       "    }\n",
       "</style>\n",
       "<table border=\"1\" class=\"dataframe\">\n",
       "  <thead>\n",
       "    <tr style=\"text-align: right;\">\n",
       "      <th></th>\n",
       "      <th>Last Name</th>\n",
       "      <th>First_Name</th>\n",
       "      <th>Rating</th>\n",
       "      <th>hours</th>\n",
       "      <th>Price</th>\n",
       "    </tr>\n",
       "  </thead>\n",
       "  <tbody>\n",
       "    <tr>\n",
       "      <th>0</th>\n",
       "      <td>NaN</td>\n",
       "      <td>Gandhali</td>\n",
       "      <td>excellent</td>\n",
       "      <td>10.0</td>\n",
       "      <td>1000</td>\n",
       "    </tr>\n",
       "    <tr>\n",
       "      <th>1</th>\n",
       "      <td>Gadde</td>\n",
       "      <td>Kavita</td>\n",
       "      <td>excellent</td>\n",
       "      <td>2.0</td>\n",
       "      <td>2000</td>\n",
       "    </tr>\n",
       "    <tr>\n",
       "      <th>2</th>\n",
       "      <td>NaN</td>\n",
       "      <td>gowtham</td>\n",
       "      <td>good</td>\n",
       "      <td>30.0</td>\n",
       "      <td>3000</td>\n",
       "    </tr>\n",
       "    <tr>\n",
       "      <th>3</th>\n",
       "      <td>Hassan</td>\n",
       "      <td>NaN</td>\n",
       "      <td>NaN</td>\n",
       "      <td>10.0</td>\n",
       "      <td>2000</td>\n",
       "    </tr>\n",
       "    <tr>\n",
       "      <th>4</th>\n",
       "      <td>Kumar</td>\n",
       "      <td>Parveen</td>\n",
       "      <td>excellent</td>\n",
       "      <td>NaN</td>\n",
       "      <td>2200</td>\n",
       "    </tr>\n",
       "    <tr>\n",
       "      <th>5</th>\n",
       "      <td>Gupta</td>\n",
       "      <td>Sanjeev</td>\n",
       "      <td>excellent</td>\n",
       "      <td>11.0</td>\n",
       "      <td>2233</td>\n",
       "    </tr>\n",
       "    <tr>\n",
       "      <th>6</th>\n",
       "      <td>ramalingam</td>\n",
       "      <td>lakshmanan</td>\n",
       "      <td>average</td>\n",
       "      <td>23.0</td>\n",
       "      <td>1232</td>\n",
       "    </tr>\n",
       "    <tr>\n",
       "      <th>7</th>\n",
       "      <td>NaN</td>\n",
       "      <td>Venkatesh</td>\n",
       "      <td>excellent</td>\n",
       "      <td>18.0</td>\n",
       "      <td>1899</td>\n",
       "    </tr>\n",
       "    <tr>\n",
       "      <th>8</th>\n",
       "      <td>Kumar</td>\n",
       "      <td>Amit</td>\n",
       "      <td>excellent</td>\n",
       "      <td>22.0</td>\n",
       "      <td>1919</td>\n",
       "    </tr>\n",
       "    <tr>\n",
       "      <th>9</th>\n",
       "      <td>Jain</td>\n",
       "      <td>Sudhir</td>\n",
       "      <td>good</td>\n",
       "      <td>11.0</td>\n",
       "      <td>122</td>\n",
       "    </tr>\n",
       "  </tbody>\n",
       "</table>\n",
       "</div>"
      ],
      "text/plain": [
       "    Last Name  First_Name     Rating  hours  Price\n",
       "0         NaN    Gandhali  excellent   10.0   1000\n",
       "1       Gadde      Kavita  excellent    2.0   2000\n",
       "2         NaN     gowtham       good   30.0   3000\n",
       "3      Hassan         NaN        NaN   10.0   2000\n",
       "4       Kumar     Parveen  excellent    NaN   2200\n",
       "5       Gupta     Sanjeev  excellent   11.0   2233\n",
       "6  ramalingam  lakshmanan    average   23.0   1232\n",
       "7         NaN   Venkatesh  excellent   18.0   1899\n",
       "8       Kumar        Amit  excellent   22.0   1919\n",
       "9        Jain      Sudhir       good   11.0    122"
      ]
     },
     "execution_count": 17,
     "metadata": {},
     "output_type": "execute_result"
    }
   ],
   "source": [
    "df"
   ]
  },
  {
   "cell_type": "code",
   "execution_count": 18,
   "id": "30048480",
   "metadata": {},
   "outputs": [
    {
     "data": {
      "text/plain": [
       "0      Gandhali\n",
       "1        Kavita\n",
       "2       gowtham\n",
       "3           NaN\n",
       "4       Parveen\n",
       "5       Sanjeev\n",
       "6    lakshmanan\n",
       "7     Venkatesh\n",
       "8          Amit\n",
       "9        Sudhir\n",
       "Name: First_Name, dtype: object"
      ]
     },
     "execution_count": 18,
     "metadata": {},
     "output_type": "execute_result"
    }
   ],
   "source": [
    "# when we want to fetch column use . when column name is one word\n",
    "# when we have spaces in column name we use []\n",
    "df.First_Name"
   ]
  },
  {
   "cell_type": "code",
   "execution_count": 19,
   "id": "245224be",
   "metadata": {},
   "outputs": [
    {
     "data": {
      "text/plain": [
       "0           NaN\n",
       "1         Gadde\n",
       "2           NaN\n",
       "3        Hassan\n",
       "4         Kumar\n",
       "5         Gupta\n",
       "6    ramalingam\n",
       "7           NaN\n",
       "8         Kumar\n",
       "9          Jain\n",
       "Name: Last Name, dtype: object"
      ]
     },
     "execution_count": 19,
     "metadata": {},
     "output_type": "execute_result"
    }
   ],
   "source": [
    "df['Last Name']"
   ]
  },
  {
   "cell_type": "code",
   "execution_count": 20,
   "id": "2fe0790e",
   "metadata": {},
   "outputs": [
    {
     "data": {
      "text/html": [
       "<div>\n",
       "<style scoped>\n",
       "    .dataframe tbody tr th:only-of-type {\n",
       "        vertical-align: middle;\n",
       "    }\n",
       "\n",
       "    .dataframe tbody tr th {\n",
       "        vertical-align: top;\n",
       "    }\n",
       "\n",
       "    .dataframe thead th {\n",
       "        text-align: right;\n",
       "    }\n",
       "</style>\n",
       "<table border=\"1\" class=\"dataframe\">\n",
       "  <thead>\n",
       "    <tr style=\"text-align: right;\">\n",
       "      <th></th>\n",
       "      <th>Last Name</th>\n",
       "      <th>First_Name</th>\n",
       "      <th>Rating</th>\n",
       "      <th>hours</th>\n",
       "      <th>Price</th>\n",
       "    </tr>\n",
       "  </thead>\n",
       "  <tbody>\n",
       "    <tr>\n",
       "      <th>0</th>\n",
       "      <td>NaN</td>\n",
       "      <td>Gandhali</td>\n",
       "      <td>excellent</td>\n",
       "      <td>10.0</td>\n",
       "      <td>1000</td>\n",
       "    </tr>\n",
       "    <tr>\n",
       "      <th>1</th>\n",
       "      <td>Gadde</td>\n",
       "      <td>Kavita</td>\n",
       "      <td>excellent</td>\n",
       "      <td>2.0</td>\n",
       "      <td>2000</td>\n",
       "    </tr>\n",
       "    <tr>\n",
       "      <th>4</th>\n",
       "      <td>Kumar</td>\n",
       "      <td>Parveen</td>\n",
       "      <td>excellent</td>\n",
       "      <td>NaN</td>\n",
       "      <td>2200</td>\n",
       "    </tr>\n",
       "    <tr>\n",
       "      <th>5</th>\n",
       "      <td>Gupta</td>\n",
       "      <td>Sanjeev</td>\n",
       "      <td>excellent</td>\n",
       "      <td>11.0</td>\n",
       "      <td>2233</td>\n",
       "    </tr>\n",
       "    <tr>\n",
       "      <th>7</th>\n",
       "      <td>NaN</td>\n",
       "      <td>Venkatesh</td>\n",
       "      <td>excellent</td>\n",
       "      <td>18.0</td>\n",
       "      <td>1899</td>\n",
       "    </tr>\n",
       "    <tr>\n",
       "      <th>8</th>\n",
       "      <td>Kumar</td>\n",
       "      <td>Amit</td>\n",
       "      <td>excellent</td>\n",
       "      <td>22.0</td>\n",
       "      <td>1919</td>\n",
       "    </tr>\n",
       "  </tbody>\n",
       "</table>\n",
       "</div>"
      ],
      "text/plain": [
       "  Last Name First_Name     Rating  hours  Price\n",
       "0       NaN   Gandhali  excellent   10.0   1000\n",
       "1     Gadde     Kavita  excellent    2.0   2000\n",
       "4     Kumar    Parveen  excellent    NaN   2200\n",
       "5     Gupta    Sanjeev  excellent   11.0   2233\n",
       "7       NaN  Venkatesh  excellent   18.0   1899\n",
       "8     Kumar       Amit  excellent   22.0   1919"
      ]
     },
     "execution_count": 20,
     "metadata": {},
     "output_type": "execute_result"
    }
   ],
   "source": [
    "# for giving conditions we use ()\n",
    "# i want to fetch all the people who gave excellent rating\n",
    "df[(df.Rating == 'excellent')]"
   ]
  },
  {
   "cell_type": "code",
   "execution_count": 23,
   "id": "b8631e86",
   "metadata": {},
   "outputs": [
    {
     "data": {
      "text/plain": [
       "4    Parveen\n",
       "5    Sanjeev\n",
       "Name: First_Name, dtype: object"
      ]
     },
     "execution_count": 23,
     "metadata": {},
     "output_type": "execute_result"
    }
   ],
   "source": [
    "# i want to fetch all the people who gave excellent rating and paid more than 2000 Rs\n",
    "df[(df.Rating == 'excellent') & (df.Price>2000)].First_Name"
   ]
  },
  {
   "cell_type": "code",
   "execution_count": 24,
   "id": "faa32b35",
   "metadata": {},
   "outputs": [
    {
     "data": {
      "text/html": [
       "<div>\n",
       "<style scoped>\n",
       "    .dataframe tbody tr th:only-of-type {\n",
       "        vertical-align: middle;\n",
       "    }\n",
       "\n",
       "    .dataframe tbody tr th {\n",
       "        vertical-align: top;\n",
       "    }\n",
       "\n",
       "    .dataframe thead th {\n",
       "        text-align: right;\n",
       "    }\n",
       "</style>\n",
       "<table border=\"1\" class=\"dataframe\">\n",
       "  <thead>\n",
       "    <tr style=\"text-align: right;\">\n",
       "      <th></th>\n",
       "      <th>First_Name</th>\n",
       "      <th>Last Name</th>\n",
       "    </tr>\n",
       "  </thead>\n",
       "  <tbody>\n",
       "    <tr>\n",
       "      <th>4</th>\n",
       "      <td>Parveen</td>\n",
       "      <td>Kumar</td>\n",
       "    </tr>\n",
       "    <tr>\n",
       "      <th>5</th>\n",
       "      <td>Sanjeev</td>\n",
       "      <td>Gupta</td>\n",
       "    </tr>\n",
       "  </tbody>\n",
       "</table>\n",
       "</div>"
      ],
      "text/plain": [
       "  First_Name Last Name\n",
       "4    Parveen     Kumar\n",
       "5    Sanjeev     Gupta"
      ]
     },
     "execution_count": 24,
     "metadata": {},
     "output_type": "execute_result"
    }
   ],
   "source": [
    "df[(df.Rating == 'excellent') & (df.Price>2000)][['First_Name', 'Last Name']]"
   ]
  },
  {
   "cell_type": "code",
   "execution_count": 25,
   "id": "eb979fbc",
   "metadata": {},
   "outputs": [
    {
     "data": {
      "text/html": [
       "<div>\n",
       "<style scoped>\n",
       "    .dataframe tbody tr th:only-of-type {\n",
       "        vertical-align: middle;\n",
       "    }\n",
       "\n",
       "    .dataframe tbody tr th {\n",
       "        vertical-align: top;\n",
       "    }\n",
       "\n",
       "    .dataframe thead th {\n",
       "        text-align: right;\n",
       "    }\n",
       "</style>\n",
       "<table border=\"1\" class=\"dataframe\">\n",
       "  <thead>\n",
       "    <tr style=\"text-align: right;\">\n",
       "      <th></th>\n",
       "      <th>Last Name</th>\n",
       "      <th>First_Name</th>\n",
       "      <th>Rating</th>\n",
       "      <th>hours</th>\n",
       "      <th>Price</th>\n",
       "    </tr>\n",
       "  </thead>\n",
       "  <tbody>\n",
       "    <tr>\n",
       "      <th>0</th>\n",
       "      <td>NaN</td>\n",
       "      <td>Gandhali</td>\n",
       "      <td>excellent</td>\n",
       "      <td>10.0</td>\n",
       "      <td>1000</td>\n",
       "    </tr>\n",
       "    <tr>\n",
       "      <th>1</th>\n",
       "      <td>Gadde</td>\n",
       "      <td>Kavita</td>\n",
       "      <td>excellent</td>\n",
       "      <td>2.0</td>\n",
       "      <td>2000</td>\n",
       "    </tr>\n",
       "    <tr>\n",
       "      <th>2</th>\n",
       "      <td>NaN</td>\n",
       "      <td>gowtham</td>\n",
       "      <td>good</td>\n",
       "      <td>30.0</td>\n",
       "      <td>3000</td>\n",
       "    </tr>\n",
       "    <tr>\n",
       "      <th>3</th>\n",
       "      <td>Hassan</td>\n",
       "      <td>NaN</td>\n",
       "      <td>NaN</td>\n",
       "      <td>10.0</td>\n",
       "      <td>2000</td>\n",
       "    </tr>\n",
       "    <tr>\n",
       "      <th>4</th>\n",
       "      <td>Kumar</td>\n",
       "      <td>Parveen</td>\n",
       "      <td>excellent</td>\n",
       "      <td>NaN</td>\n",
       "      <td>2200</td>\n",
       "    </tr>\n",
       "    <tr>\n",
       "      <th>5</th>\n",
       "      <td>Gupta</td>\n",
       "      <td>Sanjeev</td>\n",
       "      <td>excellent</td>\n",
       "      <td>11.0</td>\n",
       "      <td>2233</td>\n",
       "    </tr>\n",
       "    <tr>\n",
       "      <th>6</th>\n",
       "      <td>ramalingam</td>\n",
       "      <td>lakshmanan</td>\n",
       "      <td>average</td>\n",
       "      <td>23.0</td>\n",
       "      <td>1232</td>\n",
       "    </tr>\n",
       "    <tr>\n",
       "      <th>7</th>\n",
       "      <td>NaN</td>\n",
       "      <td>Venkatesh</td>\n",
       "      <td>excellent</td>\n",
       "      <td>18.0</td>\n",
       "      <td>1899</td>\n",
       "    </tr>\n",
       "    <tr>\n",
       "      <th>8</th>\n",
       "      <td>Kumar</td>\n",
       "      <td>Amit</td>\n",
       "      <td>excellent</td>\n",
       "      <td>22.0</td>\n",
       "      <td>1919</td>\n",
       "    </tr>\n",
       "    <tr>\n",
       "      <th>9</th>\n",
       "      <td>Jain</td>\n",
       "      <td>Sudhir</td>\n",
       "      <td>good</td>\n",
       "      <td>11.0</td>\n",
       "      <td>122</td>\n",
       "    </tr>\n",
       "  </tbody>\n",
       "</table>\n",
       "</div>"
      ],
      "text/plain": [
       "    Last Name  First_Name     Rating  hours  Price\n",
       "0         NaN    Gandhali  excellent   10.0   1000\n",
       "1       Gadde      Kavita  excellent    2.0   2000\n",
       "2         NaN     gowtham       good   30.0   3000\n",
       "3      Hassan         NaN        NaN   10.0   2000\n",
       "4       Kumar     Parveen  excellent    NaN   2200\n",
       "5       Gupta     Sanjeev  excellent   11.0   2233\n",
       "6  ramalingam  lakshmanan    average   23.0   1232\n",
       "7         NaN   Venkatesh  excellent   18.0   1899\n",
       "8       Kumar        Amit  excellent   22.0   1919\n",
       "9        Jain      Sudhir       good   11.0    122"
      ]
     },
     "execution_count": 25,
     "metadata": {},
     "output_type": "execute_result"
    }
   ],
   "source": [
    "df"
   ]
  },
  {
   "cell_type": "code",
   "execution_count": 26,
   "id": "65ba8008",
   "metadata": {},
   "outputs": [
    {
     "data": {
      "text/html": [
       "<div>\n",
       "<style scoped>\n",
       "    .dataframe tbody tr th:only-of-type {\n",
       "        vertical-align: middle;\n",
       "    }\n",
       "\n",
       "    .dataframe tbody tr th {\n",
       "        vertical-align: top;\n",
       "    }\n",
       "\n",
       "    .dataframe thead th {\n",
       "        text-align: right;\n",
       "    }\n",
       "</style>\n",
       "<table border=\"1\" class=\"dataframe\">\n",
       "  <thead>\n",
       "    <tr style=\"text-align: right;\">\n",
       "      <th></th>\n",
       "      <th>Last Name</th>\n",
       "      <th>First_Name</th>\n",
       "      <th>Rating</th>\n",
       "      <th>hours</th>\n",
       "      <th>Price</th>\n",
       "    </tr>\n",
       "  </thead>\n",
       "  <tbody>\n",
       "    <tr>\n",
       "      <th>2</th>\n",
       "      <td>NaN</td>\n",
       "      <td>gowtham</td>\n",
       "      <td>good</td>\n",
       "      <td>30.0</td>\n",
       "      <td>3000</td>\n",
       "    </tr>\n",
       "  </tbody>\n",
       "</table>\n",
       "</div>"
      ],
      "text/plain": [
       "  Last Name First_Name Rating  hours  Price\n",
       "2       NaN    gowtham   good   30.0   3000"
      ]
     },
     "execution_count": 26,
     "metadata": {},
     "output_type": "execute_result"
    }
   ],
   "source": [
    "# i want to find who paid max price\n",
    "df[(df.Price == df.Price.max())]"
   ]
  },
  {
   "cell_type": "code",
   "execution_count": 3,
   "id": "2dcd121b",
   "metadata": {},
   "outputs": [
    {
     "ename": "NameError",
     "evalue": "name 'df' is not defined",
     "output_type": "error",
     "traceback": [
      "\u001b[1;31m---------------------------------------------------------------------------\u001b[0m",
      "\u001b[1;31mNameError\u001b[0m                                 Traceback (most recent call last)",
      "\u001b[1;32mc:\\Local\\python-training\\Day-3\\day 3 notebook.ipynb Cell 28\u001b[0m line \u001b[0;36m2\n\u001b[0;32m      <a href='vscode-notebook-cell:/c%3A/Local/python-training/Day-3/day%203%20notebook.ipynb#X36sZmlsZQ%3D%3D?line=0'>1</a>\u001b[0m \u001b[39m# sort based on price in descending order and fetch the top row\u001b[39;00m\n\u001b[1;32m----> <a href='vscode-notebook-cell:/c%3A/Local/python-training/Day-3/day%203%20notebook.ipynb#X36sZmlsZQ%3D%3D?line=1'>2</a>\u001b[0m df\u001b[39m.\u001b[39msort_values(by\u001b[39m=\u001b[39m\u001b[39m'\u001b[39m\u001b[39mPrice\u001b[39m\u001b[39m'\u001b[39m, ascending\u001b[39m=\u001b[39m\u001b[39mFalse\u001b[39;00m)\u001b[39m.\u001b[39mhead(\u001b[39m1\u001b[39m)\n",
      "\u001b[1;31mNameError\u001b[0m: name 'df' is not defined"
     ]
    }
   ],
   "source": [
    "# sort based on price in descending order and fetch the top row\n",
    "df.sort_values(by='Price', ascending=False).head(1)"
   ]
  }
 ],
 "metadata": {
  "kernelspec": {
   "display_name": "Python 3 (ipykernel)",
   "language": "python",
   "name": "python3"
  },
  "language_info": {
   "codemirror_mode": {
    "name": "ipython",
    "version": 3
   },
   "file_extension": ".py",
   "mimetype": "text/x-python",
   "name": "python",
   "nbconvert_exporter": "python",
   "pygments_lexer": "ipython3",
   "version": "3.11.6"
  }
 },
 "nbformat": 4,
 "nbformat_minor": 5
}
